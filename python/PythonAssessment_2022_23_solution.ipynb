{
 "cells": [
  {
   "cell_type": "markdown",
   "metadata": {
    "id": "hqlAwxycceLg"
   },
   "source": [
    "# Welcome to the **Python Assessment** of **Vertical Collaboration, Open Community**\n",
    "\n",
    "## About the dataset\n",
    "This dataset contains house sale prices for King County, which includes Seattle. It includes homes sold between May 2014 and May 2015.\n",
    "\n",
    "##### To pass the assessment, you must answer all 11 questions correctly ***Bonus section is optional*.\n",
    "\n",
    "#### Wish you all the best!!\n",
    "\n",
    "\n"
   ]
  },
  {
   "cell_type": "code",
   "execution_count": 1,
   "metadata": {
    "id": "wU_bXJPAcsQc"
   },
   "outputs": [],
   "source": [
    "import numpy as np\n",
    "import pandas as pd\n",
    "import matplotlib.pyplot as plt"
   ]
  },
  {
   "cell_type": "markdown",
   "metadata": {
    "id": "4XxnlWfzd7xk"
   },
   "source": [
    "Q1) Your understanding about (max 50 words)\n",
    "\n",
    "\n",
    "1.   NumPY: It is a library in Python. It helps us to perform operations such as mathematical and logical, on arrays using it's vast number of functions. It consists of collections and obejcts (multidimensional array ones).\n",
    "2.   Pandas: It is a library in Python. When we think of data analysis we always know that pandas is the libraray we will require. Through it's use we can perform data analysis and manipulation using it's vast collection of functions.\n",
    "\n",
    "3.   MatPlotLib: It is a library in Python. It is a visualization(static, animated, interactive) library we can make 2d graphs and plots. It supports a very wide variety of graphs and plots namely histogram, bar charts, power spectra, error charts etc. \n",
    "\n"
   ]
  },
  {
   "cell_type": "markdown",
   "metadata": {
    "id": "XmRRFzQccy3j"
   },
   "source": [
    "Q2) Upload the given dataset into the folder named sample_data"
   ]
  },
  {
   "cell_type": "code",
   "execution_count": 16,
   "metadata": {
    "id": "npg0aacAcuDR"
   },
   "outputs": [],
   "source": [
    "sales = pd.read_csv('sample_data/kc_house_data.csv')"
   ]
  },
  {
   "cell_type": "markdown",
   "metadata": {
    "id": "zvQY-iP4c4HD"
   },
   "source": [
    "Q2) Find out the total number of rows and columns present in our dataset"
   ]
  },
  {
   "cell_type": "code",
   "execution_count": 15,
   "metadata": {
    "id": "E22av13Mc3eE"
   },
   "outputs": [
    {
     "name": "stdout",
     "output_type": "stream",
     "text": [
      "Number of Rows is 21613\n",
      "Number of Columns is 21\n"
     ]
    }
   ],
   "source": [
    "# your code here\n",
    "nr = len(sales.axes[0])\n",
    "nc = len(sales.axes[1])\n",
    "print(\"Number of Rows is \" + str(nr))\n",
    "print(\"Number of Columns is \" + str(nc))"
   ]
  },
  {
   "cell_type": "markdown",
   "metadata": {
    "id": "R6EDQ3U7dMii"
   },
   "source": [
    "Q3) Find out the mean of Price"
   ]
  },
  {
   "cell_type": "code",
   "execution_count": 14,
   "metadata": {
    "id": "2yVwB0Ztc9zz"
   },
   "outputs": [
    {
     "name": "stdout",
     "output_type": "stream",
     "text": [
      "The mean of the price is  540088.1417665294\n"
     ]
    }
   ],
   "source": [
    "# your code here\n",
    "print(\"The mean of the price is \",sales['price'].mean())"
   ]
  },
  {
   "cell_type": "markdown",
   "metadata": {
    "id": "2QO6-TXvddnN"
   },
   "source": [
    "Q4) Find out which zipcode has maximum no of sales"
   ]
  },
  {
   "cell_type": "code",
   "execution_count": 13,
   "metadata": {
    "id": "vlSAsQfQfgg2"
   },
   "outputs": [
    {
     "name": "stdout",
     "output_type": "stream",
     "text": [
      "98103    602\n",
      "98038    590\n",
      "98115    583\n",
      "98052    574\n",
      "98117    553\n",
      "        ... \n",
      "98102    105\n",
      "98010    100\n",
      "98024     81\n",
      "98148     57\n",
      "98039     50\n",
      "Name: zipcode, Length: 70, dtype: int64\n",
      "\n",
      "The Zipcode having the maximum number of sales is : 98103\n"
     ]
    }
   ],
   "source": [
    "# your code here\n",
    "print(sales['zipcode'].value_counts())\n",
    "print(\"\\nThe Zipcode having the maximum number of sales is \" + str(np.squeeze(sales['zipcode'].mode())))"
   ]
  },
  {
   "cell_type": "markdown",
   "metadata": {
    "id": "eeLeVaWBdj7e"
   },
   "source": [
    "Q5) Make an array displaying type of house grade present"
   ]
  },
  {
   "cell_type": "code",
   "execution_count": 7,
   "metadata": {
    "id": "TOVrRt4sfhrK"
   },
   "outputs": [
    {
     "name": "stdout",
     "output_type": "stream",
     "text": [
      "7     8981\n",
      "8     6068\n",
      "9     2615\n",
      "6     2038\n",
      "10    1134\n",
      "11     399\n",
      "5      242\n",
      "12      90\n",
      "4       29\n",
      "13      13\n",
      "3        3\n",
      "1        1\n",
      "Name: grade, dtype: int64\n"
     ]
    }
   ],
   "source": [
    "# your code here\n",
    "print(sales['grade'].value_counts())"
   ]
  },
  {
   "cell_type": "markdown",
   "metadata": {
    "id": "vyYhtqQDdxqj"
   },
   "source": [
    "Q6) Find out the total no sales in conditions 3 and 4"
   ]
  },
  {
   "cell_type": "code",
   "execution_count": 7,
   "metadata": {
    "id": "SkBMOVvafiei"
   },
   "outputs": [
    {
     "name": "stdout",
     "output_type": "stream",
     "text": [
      "The total no of sales in condition 4 -> 602\n"
     ]
    }
   ],
   "source": [
    "# your code here\n",
    "#for maximum no of sales in zipcode\n",
    "print(\"The total no of sales in condition 4 -> \"+ str((sales['zipcode'] == np.squeeze(sales['zipcode'].mode())).value_counts()[True]))"
   ]
  },
  {
   "cell_type": "markdown",
   "metadata": {
    "id": "AHs7ZLKrdTsD"
   },
   "source": [
    "Q7) Find out the top-five ids with the highest prices"
   ]
  },
  {
   "cell_type": "code",
   "execution_count": 17,
   "metadata": {
    "id": "BS653UBKfjfK"
   },
   "outputs": [
    {
     "name": "stdout",
     "output_type": "stream",
     "text": [
      "The top 5 ids are as follows :- \n",
      "7252    6762700020\n",
      "3914    9808700762\n",
      "9254    9208900037\n",
      "4411    2470100110\n",
      "1448    8907500070\n",
      "Name: id, dtype: int64\n"
     ]
    }
   ],
   "source": [
    "# your code here\n",
    "sales_sort_by_price = sales.sort_values(by='price', ascending=False)\n",
    "print(\"The top 5 ids are as follows :- \\n\" + str(sales_sort_by_price['id'].head(5)))"
   ]
  },
  {
   "cell_type": "markdown",
   "metadata": {
    "id": "XP54QULPdZTh"
   },
   "source": [
    "Q8) Draw a pie chart displaying the types of house conditions present"
   ]
  },
  {
   "cell_type": "code",
   "execution_count": 18,
   "metadata": {
    "id": "5XP9quaFfkaI"
   },
   "outputs": [
    {
     "data": {
      "text/plain": [
       "Text(0.5, 1.0, 'The types of house conditions present')"
      ]
     },
     "execution_count": 18,
     "metadata": {},
     "output_type": "execute_result"
    },
    {
     "data": {
      "image/png": "[encoded data removed]",
      "text/plain": [
       "<Figure size 432x288 with 1 Axes>"
      ]
     },
     "metadata": {},
     "output_type": "display_data"
    }
   ],
   "source": [
    "# your code here\n",
    "pie_data = sales['condition'].value_counts()\n",
    "explode = [0, 0, 0, 0.4, 0.2]\n",
    "pie_chart = pie_data.plot(kind='pie', explode=explode)\n",
    "pie_chart.set_title(\"The types of house conditions present\")"
   ]
  },
  {
   "cell_type": "markdown",
   "metadata": {
    "id": "8gkXMakRdgnZ"
   },
   "source": [
    "Q9) Draw a bar graph displaying the no of sales"
   ]
  },
  {
   "cell_type": "code",
   "execution_count": 10,
   "metadata": {
    "id": "LFwCnSCUflFB"
   },
   "outputs": [
    {
     "data": {
      "text/plain": [
       "Text(0, 0.5, 'no of sales')"
      ]
     },
     "execution_count": 10,
     "metadata": {},
     "output_type": "execute_result"
    },
    {
     "data": {
      "image/png": "[encoded data removed]",
      "text/plain": [
       "<Figure size 432x288 with 1 Axes>"
      ]
     },
     "metadata": {
      "needs_background": "light"
     },
     "output_type": "display_data"
    }
   ],
   "source": [
    "#your code here\n",
    "bar_dat = sales['condition'].value_counts()\n",
    "bar_chart = bar_dat.plot(kind=\"bar\")\n",
    "plt.xlabel(\"condition\")\n",
    "plt.ylabel(\"no of sales\")"
   ]
  },
  {
   "cell_type": "markdown",
   "metadata": {
    "id": "_LGgh106dsBQ"
   },
   "source": [
    "Q10) Draw a graph that display the no of sales according to the date"
   ]
  },
  {
   "cell_type": "code",
   "execution_count": 11,
   "metadata": {
    "id": "pcKacoICflze"
   },
   "outputs": [
    {
     "name": "stdout",
     "output_type": "stream",
     "text": [
      "0        20141013T000000\n",
      "1        20141209T000000\n",
      "2        20150225T000000\n",
      "3        20141209T000000\n",
      "4        20150218T000000\n",
      "              ...       \n",
      "21608    20140521T000000\n",
      "21609    20150223T000000\n",
      "21610    20140623T000000\n",
      "21611    20150116T000000\n",
      "21612    20141015T000000\n",
      "Name: date, Length: 21613, dtype: object\n"
     ]
    },
    {
     "data": {
      "image/png": "[encoded data removed]",
      "text/plain": [
       "<Figure size 432x288 with 1 Axes>"
      ]
     },
     "metadata": {
      "needs_background": "light"
     },
     "output_type": "display_data"
    }
   ],
   "source": [
    "# your code here\n",
    "#sales['date'] =  pd.to_datetime(sales['date'], format='%Y%m%dT000000')\n",
    "print(sales['date'])\n",
    "x = sales['date'].value_counts()\n",
    "bar_chart_1 = x.plot(kind=\"bar\")"
   ]
  },
  {
   "cell_type": "markdown",
   "metadata": {
    "id": "jFgB7RxAd0rn"
   },
   "source": [
    "Q11) Draw a bar graph that displays the no of sales accoring to the house grade"
   ]
  },
  {
   "cell_type": "code",
   "execution_count": 12,
   "metadata": {
    "id": "ZXPUs_hXfmdR"
   },
   "outputs": [
    {
     "data": {
      "text/plain": [
       "Text(0, 0.5, 'no of sales')"
      ]
     },
     "execution_count": 12,
     "metadata": {},
     "output_type": "execute_result"
    },
    {
     "data": {
      "image/png": "[encoded data removed]",
      "text/plain": [
       "<Figure size 432x288 with 1 Axes>"
      ]
     },
     "metadata": {
      "needs_background": "light"
     },
     "output_type": "display_data"
    }
   ],
   "source": [
    "# your code here\n",
    "b_d = sales['grade'].value_counts().sort_values()\n",
    "bar_chart = b_d.plot(kind='bar')\n",
    "\n",
    "plt.xlabel(\"house grade\")\n",
    "plt.ylabel(\"no of sales\")"
   ]
  },
  {
   "cell_type": "markdown",
   "metadata": {
    "id": "HXIvKNK7doXJ"
   },
   "source": [
    "### BONUS"
   ]
  },
  {
   "cell_type": "markdown",
   "metadata": {
    "id": "PRP0ZaKFe8xt"
   },
   "source": [
    "Q1) Is there any relationship present between Year Built and Price? If yes, Please explain."
   ]
  },
  {
   "cell_type": "code",
   "execution_count": 10,
   "metadata": {
    "id": "FXoVpaJKdPSv"
   },
   "outputs": [],
   "source": [
    "# your code here"
   ]
  },
  {
   "cell_type": "markdown",
   "metadata": {
    "id": "QQvNxYe5d3-3"
   },
   "source": [
    "Q2 ) Add 1.8% TAX on every sale Price within Zipcode 98103"
   ]
  },
  {
   "cell_type": "code",
   "execution_count": 9,
   "metadata": {
    "id": "lWDids4yfEAz"
   },
   "outputs": [],
   "source": [
    "# your code here"
   ]
  }
 ],
 "metadata": {
  "colab": {
   "collapsed_sections": [],
   "name": "PythonAssessment_2022-23",
   "provenance": []
  },
  "kernelspec": {
   "display_name": "Python 3",
   "language": "python",
   "name": "python3"
  },
  "language_info": {
   "codemirror_mode": {
    "name": "ipython",
    "version": 3
   },
   "file_extension": ".py",
   "mimetype": "text/x-python",
   "name": "python",
   "nbconvert_exporter": "python",
   "pygments_lexer": "ipython3",
   "version": "3.9.5"
  }
 },
 "nbformat": 4,
 "nbformat_minor": 1
}
